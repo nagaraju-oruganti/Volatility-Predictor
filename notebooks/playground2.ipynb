{
 "cells": [
  {
   "cell_type": "code",
   "execution_count": null,
   "metadata": {},
   "outputs": [],
   "source": [
    "import os\n",
    "import glob\n",
    "import pandas as pd\n",
    "import numpy as np\n",
    "import matplotlib.pyplot as plt\n",
    "import seaborn as sns\n",
    "sns.set_style('whitegrid')\n",
    "sns.set_palette('icefire')\n",
    "\n",
    "import warnings\n",
    "warnings.filterwarnings('ignore')\n",
    "\n",
    "import pickle"
   ]
  },
  {
   "cell_type": "code",
   "execution_count": null,
   "metadata": {},
   "outputs": [],
   "source": [
    "path = '../models/BIST100/log_sq_rtn/7/LSTM/without_commodity_prices'\n",
    "with open(f'{path}/valid_predictions-1.pkl', 'rb') as f:\n",
    "    preds = pickle.load(f)\n",
    "    preds[-1] = preds[-1].flatten()\n",
    "    df_preds = pd.DataFrame(preds).T\n",
    "    df_preds.columns = ['date', 'gt', 'prediction']\n",
    "    [index, _, window, model_config, commodity] = path.split('/')[2:]\n",
    "    base_model = 'Peephole_LSTM' if model_config.startswith('Peephole_LSTM') else ('GRU' if 'GRU' in model_config else 'LSTM')\n",
    "    model_config = model_config.replace(f'{base_model}_', '').replace(f'{base_model}', '')\n",
    "    df_preds[['index', 'window', 'base_model' ,'model_config', 'commodity']] = [index, window, base_model, model_config, commodity]\n",
    "    df_preds['date'] = pd.to_datetime(df_preds['date'])"
   ]
  },
  {
   "cell_type": "code",
   "execution_count": null,
   "metadata": {},
   "outputs": [],
   "source": [
    "fig, ax = plt.subplots(1, 1)\n",
    "sns.lineplot(data = df_preds, x = 'date', y = 'gt', color = 'blue', ax = ax)\n",
    "ax1 = ax.twinx()\n",
    "sns.lineplot(data = df_preds, x = 'date', y = 'prediction', color = 'red', ax = ax1)\n",
    "plt.show()"
   ]
  },
  {
   "cell_type": "code",
   "execution_count": null,
   "metadata": {},
   "outputs": [],
   "source": [
    "df = pd.read_csv('../inputs/prep_data/window_7/BIST100/final_data.csv', index_col=0)\n",
    "df['Date'] = pd.to_datetime(df['Date'])\n",
    "df.head(2)"
   ]
  },
  {
   "cell_type": "code",
   "execution_count": null,
   "metadata": {},
   "outputs": [],
   "source": [
    "plt.figure(figsize = (12, 4))\n",
    "sns.lineplot(data = df, x = 'Date', y = 'log_returns', ci = None)\n",
    "sns.lineplot(data = df, x = 'Date', y = 'realized_volatility', ci = None)\n",
    "plt.show()"
   ]
  },
  {
   "cell_type": "code",
   "execution_count": null,
   "metadata": {},
   "outputs": [],
   "source": [
    "fig, axes = plt.subplots(4, 1, figsize = (12, 8))\n",
    "sns.lineplot(data = df, x = 'Date', y = 'realized_volatility', ci = None, ax = axes[0])\n",
    "sns.lineplot(data = df, x = 'Date', y = 'garch_volatility', ci = None, ax = axes[1])\n",
    "sns.lineplot(data = df, x = 'Date', y = 'egarch_volatility', ci = None, ax = axes[2])\n",
    "sns.lineplot(data = df, x = 'Date', y = 'gjr_garch_volatility', ci = None, ax = axes[3])\n",
    "plt.show()"
   ]
  },
  {
   "cell_type": "code",
   "execution_count": null,
   "metadata": {},
   "outputs": [],
   "source": []
  }
 ],
 "metadata": {
  "kernelspec": {
   "display_name": "base",
   "language": "python",
   "name": "python3"
  },
  "language_info": {
   "codemirror_mode": {
    "name": "ipython",
    "version": 3
   },
   "file_extension": ".py",
   "mimetype": "text/x-python",
   "name": "python",
   "nbconvert_exporter": "python",
   "pygments_lexer": "ipython3",
   "version": "3.10.9"
  },
  "orig_nbformat": 4
 },
 "nbformat": 4,
 "nbformat_minor": 2
}
