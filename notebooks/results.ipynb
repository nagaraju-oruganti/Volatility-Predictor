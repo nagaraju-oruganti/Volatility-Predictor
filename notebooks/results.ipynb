{
 "cells": [
  {
   "cell_type": "code",
   "execution_count": 6,
   "metadata": {},
   "outputs": [],
   "source": [
    "import os\n",
    "import glob\n",
    "import pandas as pd\n",
    "import numpy as np\n",
    "import matplotlib.pyplot as plt\n",
    "import seaborn as sns\n",
    "sns.set_style('whitegrid')\n",
    "sns.set_palette('icefire')\n",
    "\n",
    "import warnings\n",
    "warnings.filterwarnings('ignore')\n",
    "\n",
    "import pickle"
   ]
  },
  {
   "cell_type": "code",
   "execution_count": 7,
   "metadata": {},
   "outputs": [],
   "source": [
    "index = 'ATX'\n",
    "root = f'../models/{index}/baseline'"
   ]
  },
  {
   "cell_type": "markdown",
   "metadata": {},
   "source": [
    "### Summaries (Project metrics)"
   ]
  },
  {
   "cell_type": "code",
   "execution_count": 10,
   "metadata": {},
   "outputs": [],
   "source": [
    "results = []\n",
    "for path in glob.glob(f'{root}/*/*/*'):\n",
    "    try:\n",
    "        with open(os.path.join(path, 'project_metrics-1.pkl'), 'rb') as f:\n",
    "            data = pickle.load(f)\n",
    "            \n",
    "        [index, _, window, model_config, commodity] = path.split('/')[2:]\n",
    "        base_model = 'Peephole_LSTM' if model_config.startswith('Peephole_LSTM') else ('GRU' if 'GRU' in model_config else 'LSTM')\n",
    "        model_config = model_config.replace(f'{base_model}_', '').replace(f'{base_model}', '')\n",
    "        r = dict(index = index, window = window, base_model = base_model, model_config = model_config, commodity = commodity)\n",
    "        r.update(data)\n",
    "        results.append(r)\n",
    "    except:\n",
    "        print(path)"
   ]
  },
  {
   "cell_type": "code",
   "execution_count": 11,
   "metadata": {},
   "outputs": [
    {
     "data": {
      "text/html": [
       "<div>\n",
       "<style scoped>\n",
       "    .dataframe tbody tr th:only-of-type {\n",
       "        vertical-align: middle;\n",
       "    }\n",
       "\n",
       "    .dataframe tbody tr th {\n",
       "        vertical-align: top;\n",
       "    }\n",
       "\n",
       "    .dataframe thead th {\n",
       "        text-align: right;\n",
       "    }\n",
       "</style>\n",
       "<table border=\"1\" class=\"dataframe\">\n",
       "  <thead>\n",
       "    <tr style=\"text-align: right;\">\n",
       "      <th></th>\n",
       "      <th>index</th>\n",
       "      <th>window</th>\n",
       "      <th>base_model</th>\n",
       "      <th>model_config</th>\n",
       "      <th>commodity</th>\n",
       "      <th>mae</th>\n",
       "      <th>mse</th>\n",
       "      <th>rmse</th>\n",
       "      <th>mad</th>\n",
       "      <th>hmse</th>\n",
       "      <th>hmae</th>\n",
       "      <th>mape</th>\n",
       "      <th>r2_hetro</th>\n",
       "      <th>aic</th>\n",
       "      <th>bic</th>\n",
       "      <th>r2</th>\n",
       "    </tr>\n",
       "  </thead>\n",
       "  <tbody>\n",
       "    <tr>\n",
       "      <th>0</th>\n",
       "      <td>ATX</td>\n",
       "      <td>7</td>\n",
       "      <td>Peephole_LSTM</td>\n",
       "      <td>garch_gjr_garch</td>\n",
       "      <td>without_commodity_prices</td>\n",
       "      <td>0.004485</td>\n",
       "      <td>0.000041</td>\n",
       "      <td>0.006381</td>\n",
       "      <td>0.004701</td>\n",
       "      <td>8.631449</td>\n",
       "      <td>6.047860</td>\n",
       "      <td>0.447810</td>\n",
       "      <td>0.012490</td>\n",
       "      <td>-3751.310724</td>\n",
       "      <td>-3742.873524</td>\n",
       "      <td>-0.218019</td>\n",
       "    </tr>\n",
       "    <tr>\n",
       "      <th>1</th>\n",
       "      <td>ATX</td>\n",
       "      <td>7</td>\n",
       "      <td>Peephole_LSTM</td>\n",
       "      <td>garch_gjr_garch</td>\n",
       "      <td>with_commodity_prices</td>\n",
       "      <td>0.004649</td>\n",
       "      <td>0.000044</td>\n",
       "      <td>0.006669</td>\n",
       "      <td>0.004872</td>\n",
       "      <td>11.293804</td>\n",
       "      <td>7.866127</td>\n",
       "      <td>0.456046</td>\n",
       "      <td>0.010364</td>\n",
       "      <td>-3734.056923</td>\n",
       "      <td>-3725.627706</td>\n",
       "      <td>-0.327028</td>\n",
       "    </tr>\n",
       "    <tr>\n",
       "      <th>2</th>\n",
       "      <td>ATX</td>\n",
       "      <td>7</td>\n",
       "      <td>GRU</td>\n",
       "      <td>garch</td>\n",
       "      <td>without_commodity_prices</td>\n",
       "      <td>0.002674</td>\n",
       "      <td>0.000015</td>\n",
       "      <td>0.003844</td>\n",
       "      <td>0.004460</td>\n",
       "      <td>6.302103</td>\n",
       "      <td>4.340276</td>\n",
       "      <td>0.261918</td>\n",
       "      <td>0.690805</td>\n",
       "      <td>-4334.239664</td>\n",
       "      <td>-4325.802464</td>\n",
       "      <td>0.558123</td>\n",
       "    </tr>\n",
       "    <tr>\n",
       "      <th>3</th>\n",
       "      <td>ATX</td>\n",
       "      <td>7</td>\n",
       "      <td>GRU</td>\n",
       "      <td>garch</td>\n",
       "      <td>with_commodity_prices</td>\n",
       "      <td>0.002859</td>\n",
       "      <td>0.000018</td>\n",
       "      <td>0.004200</td>\n",
       "      <td>0.004438</td>\n",
       "      <td>6.139991</td>\n",
       "      <td>4.163593</td>\n",
       "      <td>0.252731</td>\n",
       "      <td>0.683677</td>\n",
       "      <td>-4304.343855</td>\n",
       "      <td>-4295.914638</td>\n",
       "      <td>0.473524</td>\n",
       "    </tr>\n",
       "    <tr>\n",
       "      <th>4</th>\n",
       "      <td>ATX</td>\n",
       "      <td>7</td>\n",
       "      <td>Peephole_LSTM</td>\n",
       "      <td>garch_egarch</td>\n",
       "      <td>without_commodity_prices</td>\n",
       "      <td>0.004260</td>\n",
       "      <td>0.000032</td>\n",
       "      <td>0.005691</td>\n",
       "      <td>0.004683</td>\n",
       "      <td>4.949591</td>\n",
       "      <td>3.622659</td>\n",
       "      <td>0.460715</td>\n",
       "      <td>0.075367</td>\n",
       "      <td>-3784.337239</td>\n",
       "      <td>-3775.900039</td>\n",
       "      <td>0.031258</td>\n",
       "    </tr>\n",
       "  </tbody>\n",
       "</table>\n",
       "</div>"
      ],
      "text/plain": [
       "  index  window     base_model     model_config                 commodity  \\\n",
       "0   ATX       7  Peephole_LSTM  garch_gjr_garch  without_commodity_prices   \n",
       "1   ATX       7  Peephole_LSTM  garch_gjr_garch     with_commodity_prices   \n",
       "2   ATX       7            GRU            garch  without_commodity_prices   \n",
       "3   ATX       7            GRU            garch     with_commodity_prices   \n",
       "4   ATX       7  Peephole_LSTM     garch_egarch  without_commodity_prices   \n",
       "\n",
       "        mae       mse      rmse       mad       hmse      hmae      mape  \\\n",
       "0  0.004485  0.000041  0.006381  0.004701   8.631449  6.047860  0.447810   \n",
       "1  0.004649  0.000044  0.006669  0.004872  11.293804  7.866127  0.456046   \n",
       "2  0.002674  0.000015  0.003844  0.004460   6.302103  4.340276  0.261918   \n",
       "3  0.002859  0.000018  0.004200  0.004438   6.139991  4.163593  0.252731   \n",
       "4  0.004260  0.000032  0.005691  0.004683   4.949591  3.622659  0.460715   \n",
       "\n",
       "   r2_hetro          aic          bic        r2  \n",
       "0  0.012490 -3751.310724 -3742.873524 -0.218019  \n",
       "1  0.010364 -3734.056923 -3725.627706 -0.327028  \n",
       "2  0.690805 -4334.239664 -4325.802464  0.558123  \n",
       "3  0.683677 -4304.343855 -4295.914638  0.473524  \n",
       "4  0.075367 -3784.337239 -3775.900039  0.031258  "
      ]
     },
     "execution_count": 11,
     "metadata": {},
     "output_type": "execute_result"
    }
   ],
   "source": [
    "df = pd.DataFrame(results)\n",
    "df['window'] = df['window'].apply(int)\n",
    "df.head()"
   ]
  },
  {
   "cell_type": "code",
   "execution_count": 12,
   "metadata": {},
   "outputs": [],
   "source": [
    "# Save summaries\n",
    "df.to_csv(f'../models/{index}/summary.csv')"
   ]
  },
  {
   "cell_type": "markdown",
   "metadata": {},
   "source": [
    "##### Effect of training with commodity prices"
   ]
  },
  {
   "cell_type": "code",
   "execution_count": 13,
   "metadata": {},
   "outputs": [
    {
     "data": {
      "image/png": "[encoded data removed]",
      "text/plain": [
       "<Figure size 1600x400 with 1 Axes>"
      ]
     },
     "metadata": {},
     "output_type": "display_data"
    }
   ],
   "source": [
    "plt.figure(figsize = (16, 4))\n",
    "order = ['', 'garch', 'egarch','gjr_garch', 'garch_egarch', 'garch_gjr_garch', 'egarch_gjr_garch', 'garch_egarch_gjr_garch']\n",
    "sns.boxplot(data = df[(df['window'] == 7)], x = 'model_config', y = 'mse', hue = 'base_model', order = order)\n",
    "plt.show()"
   ]
  },
  {
   "cell_type": "markdown",
   "metadata": {},
   "source": [
    "##### Performance comparision"
   ]
  },
  {
   "cell_type": "code",
   "execution_count": 14,
   "metadata": {},
   "outputs": [
    {
     "data": {
      "text/plain": [
       "(94176, 8)"
      ]
     },
     "execution_count": 14,
     "metadata": {},
     "output_type": "execute_result"
    }
   ],
   "source": [
    "## Read predictions\n",
    "dfs = []\n",
    "for path in glob.glob(f'{root}/*/*/*'):\n",
    "    with open(f'{path}/valid_predictions-1.pkl', 'rb') as f:\n",
    "        preds = pickle.load(f)\n",
    "        preds[-1] = preds[-1].flatten()\n",
    "        df_preds = pd.DataFrame(preds).T\n",
    "        df_preds.columns = ['date', 'gt', 'prediction']\n",
    "        [index, _, window, model_config, commodity] = path.split('/')[2:]\n",
    "        base_model = 'Peephole_LSTM' if model_config.startswith('Peephole_LSTM') else ('GRU' if 'GRU' in model_config else 'LSTM')\n",
    "        model_config = model_config.replace(f'{base_model}_', '').replace(f'{base_model}', '')\n",
    "        df_preds[['index', 'window', 'base_model' ,'model_config', 'commodity']] = [index, window, base_model, model_config, commodity]\n",
    "        df_preds['date'] = pd.to_datetime(df_preds['date'])\n",
    "        dfs.append(df_preds)\n",
    "        \n",
    "df_preds = pd.concat(dfs)\n",
    "df_preds['window'] = df_preds['window'].apply(int)\n",
    "df_preds.shape"
   ]
  },
  {
   "cell_type": "code",
   "execution_count": 15,
   "metadata": {},
   "outputs": [],
   "source": [
    "model_config = ['', 'garch', 'egarch', 'gjr_garch', 'garch_egarch', 'garch_gjr_garch', 'egarch_gjr_garch', 'garch_egarch_gjr_garch']"
   ]
  },
  {
   "cell_type": "code",
   "execution_count": 16,
   "metadata": {},
   "outputs": [],
   "source": [
    "def make_plot(base_model, window, show_plot = True):\n",
    "    print(f'Base model: {base_model}, window: {window}')\n",
    "    fig, axes = plt.subplots(4, 2, figsize = (12, 12), sharex = False)\n",
    "    for idx, ax in enumerate(axes.flatten()):\n",
    "        if idx < len(model_config):\n",
    "            sub = df_preds[(df_preds['base_model'] == base_model) & \\\n",
    "                (df_preds['model_config'] == model_config[idx]) & \\\n",
    "                (df_preds['window'] == window)]\n",
    "            sns.lineplot(data = sub[sub['commodity'] == 'with_commodity_prices'], ci = None,\n",
    "                         x = 'date', y = 'gt', color = 'blue', label = 'Ground truth',  ax = ax)\n",
    "            sns.lineplot(data = sub[sub['commodity'] == 'with_commodity_prices'], ci = None,\n",
    "                        x = 'date', y = 'prediction', label = 'with_commodity', color = 'red', ax = ax)\n",
    "            sns.lineplot(data = sub[sub['commodity'] == 'without_commodity_prices'], ci = None,\n",
    "                        x = 'date', y = 'prediction', label = 'without_commodity', color = 'orange', ax = ax)\n",
    "            ax.set_title(model_config[idx])\n",
    "            ax.set_ylabel('Realized volatility')\n",
    "            ax.legend()\n",
    "            ax.set_xlabel(None)\n",
    "        else:\n",
    "            ax.remove()\n",
    "\n",
    "    plt.tight_layout()\n",
    "    os.makedirs(f'../models/{index}/plots', exist_ok= True)\n",
    "    plt.savefig(f'../models/{index}/plots/{base_model}_{window}.png', bbox_inches='tight')\n",
    "    if show_plot:\n",
    "        plt.show()\n",
    "    else:\n",
    "        plt.close()"
   ]
  },
  {
   "cell_type": "code",
   "execution_count": 17,
   "metadata": {},
   "outputs": [
    {
     "name": "stdout",
     "output_type": "stream",
     "text": [
      "Base model: LSTM, window: 7\n",
      "Base model: LSTM, window: 14\n",
      "Base model: LSTM, window: 21\n",
      "Base model: LSTM, window: 28\n",
      "Base model: GRU, window: 7\n",
      "Base model: GRU, window: 14\n",
      "Base model: GRU, window: 21\n",
      "Base model: GRU, window: 28\n",
      "Base model: Peephole_LSTM, window: 7\n",
      "Base model: Peephole_LSTM, window: 14\n",
      "Base model: Peephole_LSTM, window: 21\n",
      "Base model: Peephole_LSTM, window: 28\n"
     ]
    }
   ],
   "source": [
    "for base_model in ['LSTM', 'GRU', 'Peephole_LSTM']:\n",
    "    for window in [7, 14, 21, 28]:\n",
    "        make_plot(base_model, window, show_plot = False)"
   ]
  },
  {
   "cell_type": "code",
   "execution_count": null,
   "metadata": {},
   "outputs": [],
   "source": []
  }
 ],
 "metadata": {
  "kernelspec": {
   "display_name": "base",
   "language": "python",
   "name": "python3"
  },
  "language_info": {
   "codemirror_mode": {
    "name": "ipython",
    "version": 3
   },
   "file_extension": ".py",
   "mimetype": "text/x-python",
   "name": "python",
   "nbconvert_exporter": "python",
   "pygments_lexer": "ipython3",
   "version": "3.10.9"
  },
  "orig_nbformat": 4
 },
 "nbformat": 4,
 "nbformat_minor": 2
}
