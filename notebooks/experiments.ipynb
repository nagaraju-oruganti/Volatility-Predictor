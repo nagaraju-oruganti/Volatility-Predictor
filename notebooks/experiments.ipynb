{
 "cells": [
  {
   "cell_type": "code",
   "execution_count": 1,
   "metadata": {},
   "outputs": [],
   "source": [
    "%%capture\n",
    "import os\n",
    "from IPython.utils import io\n",
    "from datetime import datetime\n",
    "\n",
    "%cd ../src"
   ]
  },
  {
   "cell_type": "code",
   "execution_count": 2,
   "metadata": {},
   "outputs": [],
   "source": [
    "### load local libraries\n",
    "from helper_config import Config\n",
    "from helper_trainer import train\n",
    "from helper_utils import prepare_configuration\n",
    "\n",
    "### GARCH config\n",
    "garch_config = [\n",
    "    # single model (without garch)\n",
    "    [],\n",
    "    \n",
    "    # single garch models\n",
    "    ['garch'],\n",
    "    ['egarch'],\n",
    "    ['gjr_garch'],\n",
    "    \n",
    "    # combine two garch models\n",
    "    ['garch', 'egarch'],\n",
    "    ['garch', 'gjr_garch'],\n",
    "    ['egarch', 'gjr_garch'],\n",
    "    \n",
    "    # combine three garch models\n",
    "    ['garch', 'egarch', 'gjr_garch'],\n",
    "]\n",
    "\n",
    "def train_for_index(index):\n",
    "    for window in [7, 14, 21, 28]:      # iterate over rolling window size\n",
    "        for model in ['LSTM', 'GRU']:#, 'Peephole_LSTM']:\n",
    "            for garch_cfg in garch_config:\n",
    "                for use_commodity_prices in [False, True]:\n",
    "                    model_type = [model] + garch_cfg\n",
    "                    comm_label = 'with_commodity_prices' if use_commodity_prices else 'without_commodity_prices'\n",
    "                    \n",
    "                    specs = dict(\n",
    "                        index       = index,\n",
    "                        window      = window,\n",
    "                        model_type  = model_type,\n",
    "                        use_commodity_prices = use_commodity_prices,\n",
    "                        model_name  = f'{index}/log_sq_rtn/{window}/{\"_\".join(model_type)}/{comm_label}',\n",
    "                        data_dir    = '../inputs',\n",
    "                        models_dir  = '../models'\n",
    "                    )\n",
    "                    \n",
    "                    print(f'[{datetime.now()}]', specs['model_name'])\n",
    "                    \n",
    "                    with io.capture_output() as captured:\n",
    "                        # prepare configuration\n",
    "                        config = prepare_configuration(specs = specs)\n",
    "                    \n",
    "                        # Train model\n",
    "                        _ = train(config)"
   ]
  },
  {
   "cell_type": "code",
   "execution_count": 3,
   "metadata": {},
   "outputs": [
    {
     "name": "stdout",
     "output_type": "stream",
     "text": [
      "----------------------------------------------------------------------------------------------------\n",
      "[2023-09-20 03:38:15.848717] BIST100/log_sq_rtn/7/LSTM/without_commodity_prices\n",
      "[2023-09-20 03:39:55.256908] BIST100/log_sq_rtn/7/LSTM/with_commodity_prices\n"
     ]
    }
   ],
   "source": [
    "# Train\n",
    "commodities = ['Gold_Features.csv', 'Crude_Oil_WTI Futures.csv']\n",
    "#indices = [f.replace('.csv', '') for f in os.listdir('../inputs/data') if (f not in commodities) & ('.csv' in f)]\n",
    "indices = ['BIST100']\n",
    "for index in indices:\n",
    "    print('-'*100)\n",
    "    train_for_index(index = index)"
   ]
  }
 ],
 "metadata": {
  "kernelspec": {
   "display_name": "base",
   "language": "python",
   "name": "python3"
  },
  "language_info": {
   "codemirror_mode": {
    "name": "ipython",
    "version": 3
   },
   "file_extension": ".py",
   "mimetype": "text/x-python",
   "name": "python",
   "nbconvert_exporter": "python",
   "pygments_lexer": "ipython3",
   "version": "3.10.9"
  },
  "orig_nbformat": 4
 },
 "nbformat": 4,
 "nbformat_minor": 2
}
