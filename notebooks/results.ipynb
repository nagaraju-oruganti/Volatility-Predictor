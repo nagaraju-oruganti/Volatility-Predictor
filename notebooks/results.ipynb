{
 "cells": [
  {
   "cell_type": "code",
   "execution_count": null,
   "metadata": {},
   "outputs": [],
   "source": [
    "import os\n",
    "import glob\n",
    "import pandas as pd\n",
    "import numpy as np\n",
    "import matplotlib.pyplot as plt\n",
    "import seaborn as sns\n",
    "sns.set_style('whitegrid')\n",
    "sns.set_palette('icefire')\n",
    "\n",
    "import warnings\n",
    "warnings.filterwarnings('ignore')\n",
    "\n",
    "import pickle"
   ]
  },
  {
   "cell_type": "code",
   "execution_count": null,
   "metadata": {},
   "outputs": [],
   "source": [
    "index = 'PSEi'\n",
    "root = f'../models/{index}/log_sq_rtn'"
   ]
  },
  {
   "cell_type": "markdown",
   "metadata": {},
   "source": [
    "### Summaries (Project metrics)"
   ]
  },
  {
   "cell_type": "code",
   "execution_count": null,
   "metadata": {},
   "outputs": [],
   "source": [
    "results = []\n",
    "for path in glob.glob(f'{root}/*/*/*'):\n",
    "    try:\n",
    "        with open(os.path.join(path, 'project_metrics-1.pkl'), 'rb') as f:\n",
    "            data = pickle.load(f)\n",
    "            \n",
    "        [index, _, window, model_config, commodity] = path.split('/')[2:]\n",
    "        base_model = 'Peephole_LSTM' if model_config.startswith('Peephole_LSTM') else ('GRU' if 'GRU' in model_config else 'LSTM')\n",
    "        model_config = model_config.replace(f'{base_model}_', '').replace(f'{base_model}', '')\n",
    "        r = dict(index = index, window = window, base_model = base_model, model_config = model_config, commodity = commodity)\n",
    "        r.update(data)\n",
    "        results.append(r)\n",
    "    except:\n",
    "        print(path)"
   ]
  },
  {
   "cell_type": "code",
   "execution_count": null,
   "metadata": {},
   "outputs": [],
   "source": [
    "df = pd.DataFrame(results)\n",
    "df['window'] = df['window'].apply(int)\n",
    "df.head()"
   ]
  },
  {
   "cell_type": "code",
   "execution_count": null,
   "metadata": {},
   "outputs": [],
   "source": [
    "# Save summaries\n",
    "df.to_csv(f'{root}/summary.csv')"
   ]
  },
  {
   "cell_type": "markdown",
   "metadata": {},
   "source": [
    "##### Effect of training with commodity prices"
   ]
  },
  {
   "cell_type": "code",
   "execution_count": null,
   "metadata": {},
   "outputs": [],
   "source": [
    "plt.figure(figsize = (16, 4))\n",
    "order = ['', 'garch', 'egarch','gjr_garch', 'garch_egarch', 'garch_gjr_garch', 'egarch_gjr_garch', 'garch_egarch_gjr_garch']\n",
    "sns.boxplot(data = df, x = 'model_config', y = 'mse', hue = 'base_model', order = order)\n",
    "plt.show()"
   ]
  },
  {
   "cell_type": "code",
   "execution_count": null,
   "metadata": {},
   "outputs": [],
   "source": [
    "plt.figure(figsize = (6, 4))\n",
    "sns.boxplot(data = df, x = 'window', y = 'mse', hue = 'base_model')#, order = order)\n",
    "plt.show()"
   ]
  },
  {
   "cell_type": "markdown",
   "metadata": {},
   "source": [
    "##### Performance comparision"
   ]
  },
  {
   "cell_type": "code",
   "execution_count": null,
   "metadata": {},
   "outputs": [],
   "source": [
    "## Read predictions\n",
    "dfs = []\n",
    "for path in glob.glob(f'{root}/*/*/*'):\n",
    "    with open(f'{path}/valid_predictions-1.pkl', 'rb') as f:\n",
    "        preds = pickle.load(f)\n",
    "        preds[-1] = preds[-1].flatten()\n",
    "        df_preds = pd.DataFrame(preds).T\n",
    "        df_preds.columns = ['date', 'gt', 'prediction']\n",
    "        [index, _, window, model_config, commodity] = path.split('/')[2:]\n",
    "        base_model = 'Peephole_LSTM' if model_config.startswith('Peephole_LSTM') else ('GRU' if 'GRU' in model_config else 'LSTM')\n",
    "        model_config = model_config.replace(f'{base_model}_', '').replace(f'{base_model}', '')\n",
    "        df_preds[['index', 'window', 'base_model' ,'model_config', 'commodity']] = [index, window, base_model, model_config, commodity]\n",
    "        df_preds['date'] = pd.to_datetime(df_preds['date'])\n",
    "        dfs.append(df_preds)\n",
    "        \n",
    "df_preds = pd.concat(dfs)\n",
    "df_preds['window'] = df_preds['window'].apply(int)\n",
    "df_preds.shape"
   ]
  },
  {
   "cell_type": "code",
   "execution_count": null,
   "metadata": {},
   "outputs": [],
   "source": [
    "model_config = ['', 'garch', 'egarch', 'gjr_garch', 'garch_egarch', 'garch_gjr_garch', 'egarch_gjr_garch', 'garch_egarch_gjr_garch']"
   ]
  },
  {
   "cell_type": "code",
   "execution_count": null,
   "metadata": {},
   "outputs": [],
   "source": [
    "def make_plot(base_model, window, save = False, show_plot = True):\n",
    "    print(f'Base model: {base_model}, window: {window}')\n",
    "    fig, axes = plt.subplots(4, 2, figsize = (12, 12), sharex = False)\n",
    "    for idx, ax in enumerate(axes.flatten()):\n",
    "        if idx < len(model_config):\n",
    "            sub = df_preds[(df_preds['base_model'] == base_model) & \\\n",
    "                (df_preds['model_config'] == model_config[idx]) & \\\n",
    "                (df_preds['window'] == window)]\n",
    "            sns.lineplot(data = sub[sub['commodity'] == 'with_commodity_prices'], ci = None,\n",
    "                         x = 'date', y = 'gt', color = 'blue', label = 'Ground truth',  ax = ax)\n",
    "            sns.lineplot(data = sub[sub['commodity'] == 'with_commodity_prices'], ci = None,\n",
    "                        x = 'date', y = 'prediction', label = 'with_commodity', color = 'red', ax = ax)\n",
    "            sns.lineplot(data = sub[sub['commodity'] == 'without_commodity_prices'], ci = None,\n",
    "                        x = 'date', y = 'prediction', label = 'without_commodity', color = 'orange', ax = ax)\n",
    "            ax.set_title(model_config[idx])\n",
    "            ax.set_ylabel('Realized volatility')\n",
    "            ax.legend()\n",
    "            ax.set_xlabel(None)\n",
    "        else:\n",
    "            ax.remove()\n",
    "\n",
    "    plt.tight_layout()\n",
    "    os.makedirs(f'{root}/plots', exist_ok= True)\n",
    "    if save:\n",
    "        plt.savefig(f'{root}/plots/{base_model}_{window}.png', bbox_inches='tight')\n",
    "    \n",
    "    if show_plot:\n",
    "        plt.show()\n",
    "    else:\n",
    "        plt.close()"
   ]
  },
  {
   "cell_type": "code",
   "execution_count": null,
   "metadata": {},
   "outputs": [],
   "source": [
    "for base_model in ['LSTM', 'GRU', 'Peephole_LSTM']:\n",
    "    for window in [7, 14, 21, 28]:\n",
    "        make_plot(base_model, window, save = True, show_plot = False)"
   ]
  }
 ],
 "metadata": {
  "kernelspec": {
   "display_name": "base",
   "language": "python",
   "name": "python3"
  },
  "language_info": {
   "codemirror_mode": {
    "name": "ipython",
    "version": 3
   },
   "file_extension": ".py",
   "mimetype": "text/x-python",
   "name": "python",
   "nbconvert_exporter": "python",
   "pygments_lexer": "ipython3",
   "version": "3.10.9"
  },
  "orig_nbformat": 4
 },
 "nbformat": 4,
 "nbformat_minor": 2
}
